{
 "cells": [
  {
   "cell_type": "code",
   "execution_count": 2,
   "id": "831bf2f2",
   "metadata": {},
   "outputs": [],
   "source": [
    "import os\n",
    "import numpy as np\n",
    "import pandas as pd \n",
    "import random\n",
    "import cv2\n",
    "import matplotlib.pyplot as plt\n",
    "\n",
    "seed = 2019\n",
    "np.random.seed(seed)\n",
    "%matplotlib inline"
   ]
  },
  {
   "cell_type": "code",
   "execution_count": 2,
   "id": "1f606239",
   "metadata": {},
   "outputs": [
    {
     "data": {
      "text/plain": [
       "('OCT2017\\\\', 'OCT2017\\\\train\\\\', 'OCT2017\\\\test\\\\')"
      ]
     },
     "execution_count": 2,
     "metadata": {},
     "output_type": "execute_result"
    }
   ],
   "source": [
    "path  = 'OCT2017\\\\'\n",
    "train = path + 'train\\\\'\n",
    "test  = path + 'test\\\\'\n",
    "path,train,test"
   ]
  },
  {
   "cell_type": "code",
   "execution_count": 3,
   "id": "4474c6ae",
   "metadata": {},
   "outputs": [],
   "source": [
    "#Data Magnification\n",
    "from keras.preprocessing.image import ImageDataGenerator\n",
    "\n",
    "train_datagen = ImageDataGenerator(zoom_range = 0.3,\n",
    "                                   horizontal_flip = True\n",
    "                                   )\n",
    "test_datagen = ImageDataGenerator()"
   ]
  },
  {
   "cell_type": "code",
   "execution_count": 4,
   "id": "d4a7e966",
   "metadata": {},
   "outputs": [
    {
     "name": "stdout",
     "output_type": "stream",
     "text": [
      "Found 83484 images belonging to 4 classes.\n",
      "Found 1000 images belonging to 4 classes.\n"
     ]
    }
   ],
   "source": [
    "#Image Transfer\n",
    "train_gen = train_datagen.flow_from_directory(\n",
    "                            directory = train, \n",
    "                            target_size = (160, 160), \n",
    "                            batch_size = 16, \n",
    "                            class_mode = 'categorical', \n",
    "                            shuffle=True)\n",
    "\n",
    "test_gen = train_datagen.flow_from_directory(\n",
    "                            directory = test, \n",
    "                            target_size = (160, 160), \n",
    "                            batch_size = 16, \n",
    "                            class_mode = 'categorical', \n",
    "                            shuffle=True)"
   ]
  },
  {
   "cell_type": "code",
   "execution_count": 5,
   "id": "98b69687",
   "metadata": {},
   "outputs": [],
   "source": [
    "#Reduce learning coefficient(ReduceLROnPlateau)\n",
    "#Checkpoint - Saving weights at each epoch (ModelCheckpoint)\n",
    "from keras.callbacks import ReduceLROnPlateau, ModelCheckpoint\n",
    "\n",
    "lr = ReduceLROnPlateau(monitor='val_loss', factor=0.3, patience=5, verbose=2, mode='max')\n",
    "cp = ModelCheckpoint(filepath='eff_model.{epoch:02d}-{val_loss:.2f}.h5',save_weights_only=True)"
   ]
  },
  {
   "cell_type": "code",
   "execution_count": 6,
   "id": "9e4b6b80",
   "metadata": {},
   "outputs": [],
   "source": [
    "#Model Building - Transfer Learning ( EfficientNet B5 )\n",
    "from efficientnet.keras import EfficientNetB5\n",
    "from tensorflow.keras.models import Sequential\n",
    "from tensorflow.keras import layers\n",
    "\n",
    "\n",
    "model = Sequential()\n",
    "model.add(EfficientNetB5(weights='imagenet',include_top=False, input_shape=(160,160,3)))\n",
    "model.add(layers.GlobalAveragePooling2D())\n",
    "model.add(layers.Dropout(0.5))\n",
    "model.add(layers.Dense(4,activation = 'softmax'))\n",
    "    \n",
    "model.compile(optimizer='adam', loss='categorical_crossentropy', metrics= ['accuracy'])"
   ]
  },
  {
   "cell_type": "code",
   "execution_count": 8,
   "id": "7180e809",
   "metadata": {},
   "outputs": [
    {
     "name": "stdout",
     "output_type": "stream",
     "text": [
      "Epoch 1/8\n",
      "5217/5217 [==============================] - 17279s 3s/step - loss: 0.2182 - accuracy: 0.9302 - val_loss: 0.0892 - val_accuracy: 0.9718 - lr: 0.0010\n",
      "Epoch 2/8\n",
      "5217/5217 [==============================] - 17221s 3s/step - loss: 0.1812 - accuracy: 0.9410 - val_loss: 0.0268 - val_accuracy: 0.9940 - lr: 0.0010\n",
      "Epoch 3/8\n",
      "5217/5217 [==============================] - 17226s 3s/step - loss: 0.1622 - accuracy: 0.9472 - val_loss: 0.1210 - val_accuracy: 0.9506 - lr: 0.0010\n",
      "Epoch 4/8\n",
      "5217/5217 [==============================] - 17203s 3s/step - loss: 0.1521 - accuracy: 0.9494 - val_loss: 0.0891 - val_accuracy: 0.9718 - lr: 0.0010\n",
      "Epoch 5/8\n",
      "5217/5217 [==============================] - 17221s 3s/step - loss: 0.1404 - accuracy: 0.9533 - val_loss: 0.0165 - val_accuracy: 0.9960 - lr: 0.0010\n",
      "Epoch 6/8\n",
      "5217/5217 [==============================] - 17173s 3s/step - loss: 0.1353 - accuracy: 0.9546 - val_loss: 0.0473 - val_accuracy: 0.9829 - lr: 0.0010\n",
      "Epoch 7/8\n",
      "5217/5217 [==============================] - 17176s 3s/step - loss: 0.1278 - accuracy: 0.9577 - val_loss: 0.0342 - val_accuracy: 0.9879 - lr: 0.0010\n",
      "Epoch 8/8\n",
      "5218/5217 [==============================] - ETA: 0s - loss: 0.1231 - accuracy: 0.9587\n",
      "Epoch 8: ReduceLROnPlateau reducing learning rate to 0.0003000000142492354.\n",
      "5217/5217 [==============================] - 17191s 3s/step - loss: 0.1231 - accuracy: 0.9587 - val_loss: 0.0219 - val_accuracy: 0.9909 - lr: 0.0010\n"
     ]
    }
   ],
   "source": [
    "#training\n",
    "history_eff = model.fit(\n",
    "           train_gen, steps_per_epoch=train_gen.samples/16, \n",
    "           epochs=8,        \n",
    "           validation_data=test_gen, \n",
    "           validation_steps=test_gen.samples // 16,\n",
    "           callbacks=[lr, cp],\n",
    "           verbose=1)"
   ]
  }
 ],
 "metadata": {
  "kernelspec": {
   "display_name": "Python 3 (ipykernel)",
   "language": "python",
   "name": "python3"
  },
  "language_info": {
   "codemirror_mode": {
    "name": "ipython",
    "version": 3
   },
   "file_extension": ".py",
   "mimetype": "text/x-python",
   "name": "python",
   "nbconvert_exporter": "python",
   "pygments_lexer": "ipython3",
   "version": "3.11.3"
  }
 },
 "nbformat": 4,
 "nbformat_minor": 5
}
