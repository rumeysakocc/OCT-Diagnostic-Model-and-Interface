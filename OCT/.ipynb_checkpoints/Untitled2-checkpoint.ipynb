{
 "cells": [
  {
   "cell_type": "code",
   "execution_count": 11,
   "id": "011ebe77",
   "metadata": {},
   "outputs": [
    {
     "name": "stdout",
     "output_type": "stream",
     "text": [
      "1/1 [==============================] - 3s 3s/step\n",
      "1/1 [==============================] - 0s 76ms/step\n"
     ]
    },
    {
     "name": "stderr",
     "output_type": "stream",
     "text": [
      "C:\\Users\\benru\\AppData\\Local\\Temp\\ipykernel_30628\\4208215721.py:68: DeprecationWarning: ANTIALIAS is deprecated and will be removed in Pillow 10 (2023-07-01). Use LANCZOS or Resampling.LANCZOS instead.\n",
      "  img = img.resize((200, 200), Image.ANTIALIAS)  # Resmi boyutlandır\n"
     ]
    },
    {
     "name": "stdout",
     "output_type": "stream",
     "text": [
      "1/1 [==============================] - 0s 79ms/step\n",
      "1/1 [==============================] - 0s 75ms/step\n",
      "1/1 [==============================] - 0s 76ms/step\n",
      "1/1 [==============================] - 0s 76ms/step\n",
      "1/1 [==============================] - 0s 76ms/step\n",
      "1/1 [==============================] - 0s 78ms/step\n",
      "1/1 [==============================] - 0s 75ms/step\n",
      "1/1 [==============================] - 0s 77ms/step\n",
      "1/1 [==============================] - 0s 75ms/step\n",
      "1/1 [==============================] - 0s 77ms/step\n"
     ]
    }
   ],
   "source": [
    "import tkinter as tk\n",
    "from tkinter import filedialog\n",
    "from keras.preprocessing import image\n",
    "from keras.applications.efficientnet import preprocess_input\n",
    "from tensorflow.keras.models import Sequential\n",
    "from tensorflow.keras import layers\n",
    "from efficientnet.keras import EfficientNetB5\n",
    "from PIL import Image, ImageTk # In addition, we import the Image and ImageTk modules from the PIL library\n",
    "import numpy as np\n",
    "\n",
    "# Create the model using EfficientNet B5 architecture (we do this because we do not have a config file)\n",
    "model = Sequential()\n",
    "model.add(EfficientNetB5(weights=None, include_top=False, input_shape=(160, 160, 3)))\n",
    "model.add(layers.GlobalAveragePooling2D())\n",
    "model.add(layers.Dropout(0.5))\n",
    "model.add(layers.Dense(4, activation='softmax'))\n",
    "\n",
    "# Load the weights of the model\n",
    "model.load_weights('eff_model.08-0.02.h5')  # Specify the correct name and path to the weight file of your model\n",
    "\n",
    "# Create the Tkinter interface\n",
    "root = tk.Tk()\n",
    "root.title(\"OCT Diagnosis\")\n",
    "root.geometry(\"800x600\")  # Set interface size\n",
    "\n",
    "# Show image and prediction results by adding scrollbar\n",
    "canvas = tk.Canvas(root)\n",
    "canvas.pack(side=tk.LEFT, fill=tk.BOTH, expand=True)\n",
    "\n",
    "scrollbar = tk.Scrollbar(root, orient=\"vertical\", command=canvas.yview)\n",
    "scrollbar.pack(side=tk.RIGHT, fill=\"y\")\n",
    "\n",
    "canvas.configure(yscrollcommand=scrollbar.set)\n",
    "\n",
    "frame = tk.Frame(canvas)\n",
    "canvas.create_window((0, 0), window=frame, anchor=\"nw\")\n",
    "\n",
    "# Show pictures and prediction results\n",
    "def show_images_and_classify():\n",
    "    file_paths = filedialog.askopenfilenames()\n",
    "    if file_paths:\n",
    "        for file_path in file_paths:\n",
    "            # Upload image\n",
    "            img = image.load_img(file_path, target_size=(160, 160))\n",
    "            img_array = image.img_to_array(img)\n",
    "            img_array = np.expand_dims(img_array, axis=0)\n",
    "            img_array = preprocess_input(img_array)\n",
    "\n",
    "            # Make a prediction\n",
    "            predictions = model.predict(img_array)\n",
    "\n",
    "            # Specify class labels\n",
    "            class_labels = ['CNV', 'DME', 'DRUSEN', 'Normal']\n",
    "\n",
    "            # Find the class with the highest probability\n",
    "            predicted_class_index = np.argmax(predictions)\n",
    "            predicted_class = class_labels[predicted_class_index]\n",
    "\n",
    "            # Print prediction results\n",
    "            result_text = f\"Prediction for {file_path}:\\n\"\n",
    "            for label, prob in zip(class_labels, predictions[0]):\n",
    "                result_text += f\"{label}: {prob:.4f}\\n\"\n",
    "\n",
    "            result_text += f'\\nPrediction: {predicted_class}\\n\\n{\"-\"*40}\\n'\n",
    "\n",
    "            # Convert image to Tkinter format and display\n",
    "            img = Image.open(file_path)\n",
    "            img = img.resize((200, 200), Image.ANTIALIAS)  # Resize image\n",
    "            img = ImageTk.PhotoImage(img)\n",
    "            image_label = tk.Label(frame, image=img)\n",
    "            image_label.image = img  # To hold the reference\n",
    "            image_label.pack(pady=10)\n",
    "\n",
    "            result_label = tk.Label(frame, text=result_text, justify=\"left\")\n",
    "            result_label.pack()\n",
    "\n",
    "# Add the image selector button and adjust its position\n",
    "select_image_button = tk.Button(root, text=\"Select Pictures and Make Predictions\", command=show_images_and_classify)\n",
    "select_image_button.pack(side=tk.BOTTOM, anchor=tk.S, pady=(10, 20), padx=(100, 0))  # Set the location\n",
    "\n",
    "# To be able to use the mouse wheel to scroll the Canvas\n",
    "def on_mousewheel(event):\n",
    "    canvas.yview_scroll(int(-1 * (event.delta / 120)), \"units\")\n",
    "\n",
    "canvas.bind_all(\"<MouseWheel>\", on_mousewheel)\n",
    "\n",
    "# Start the Tkinter loop\n",
    "root.mainloop()\n"
   ]
  },
  {
   "cell_type": "code",
   "execution_count": null,
   "id": "82ba7a1d",
   "metadata": {},
   "outputs": [],
   "source": []
  }
 ],
 "metadata": {
  "kernelspec": {
   "display_name": "Python 3 (ipykernel)",
   "language": "python",
   "name": "python3"
  },
  "language_info": {
   "codemirror_mode": {
    "name": "ipython",
    "version": 3
   },
   "file_extension": ".py",
   "mimetype": "text/x-python",
   "name": "python",
   "nbconvert_exporter": "python",
   "pygments_lexer": "ipython3",
   "version": "3.11.3"
  }
 },
 "nbformat": 4,
 "nbformat_minor": 5
}
